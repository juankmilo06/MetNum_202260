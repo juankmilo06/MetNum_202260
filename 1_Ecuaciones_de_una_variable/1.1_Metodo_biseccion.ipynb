{
 "cells": [
  {
   "cell_type": "markdown",
   "source": [
    "# 1.1 Método de *bisección*"
   ],
   "metadata": {
    "collapsed": false,
    "pycharm": {
     "name": "#%% md\n"
    }
   }
  },
  {
   "cell_type": "markdown",
   "source": [
    "[![Open In Colab](https://colab.research.google.com/assets/colab-badge.svg)](https://colab.research.google.com/github/caramirezs/MetNum_202210/blob/main/1_Ecuaciones_de_una_variable/1.1_Metodo_biseccion.ipynb)"
   ],
   "metadata": {
    "collapsed": false,
    "pycharm": {
     "name": "#%% md\n"
    }
   }
  },
  {
   "cell_type": "markdown",
   "source": [
    "## Algoritmo"
   ],
   "metadata": {
    "collapsed": false,
    "pycharm": {
     "name": "#%% md\n"
    }
   }
  },
  {
   "cell_type": "code",
   "execution_count": 1,
   "outputs": [],
   "source": [
    "import numpy as np"
   ],
   "metadata": {
    "collapsed": false,
    "pycharm": {
     "name": "#%%\n"
    }
   }
  },
  {
   "cell_type": "code",
   "execution_count": 2,
   "outputs": [],
   "source": [
    "def met_biseccion(f, a, b, tol=1e-4, n=50):\n",
    "    \"\"\"\n",
    "    Método de bisección\n",
    "    :param f: Funcion a la que se le intenta encontrar una solucion\n",
    "    para la ecuacion f(x)=0, previamente definida\n",
    "    :param a: límite inferior\n",
    "    :param b: límite superior\n",
    "    :param tol: toleracia, criterio de parada\n",
    "    :param n: número máximo de iteraciones, criterio de parada\n",
    "    :return: solución exacta o aproximada, si tiene.\n",
    "    \"\"\"\n",
    "    if not f(a)*f(b)<0:\n",
    "        print('El intervalo no funciona: f({})={:.2f}, f({})={:.2f}'.format(a, f(a), b, f(b)))\n",
    "        return None\n",
    "    i = 1\n",
    "    while i<=n:\n",
    "        p_i = (b + a)/2  # punto medio\n",
    "        print('ite {:<2}: a_{:<2} = {:.4f}, b_{:<2} = {:.4f}, p_{:<2} = {:.5f}'.format(i, i-1, a, i-1, b, i, p_i))\n",
    "        if f(p_i) == 0:\n",
    "            print('solución exacta encontrada')\n",
    "            return p_i\n",
    "        if f(a)*f(p_i) < 0:\n",
    "            b = p_i\n",
    "        else:\n",
    "            a = p_i\n",
    "        e_abs = abs(b - a)\n",
    "        if e_abs < tol:\n",
    "            print('solución encontrada')\n",
    "            return p_i\n",
    "        i += 1\n",
    "\n",
    "    print('solución no encontrada, iteraciones agotadas')\n",
    "    return None"
   ],
   "metadata": {
    "collapsed": false,
    "pycharm": {
     "name": "#%%\n"
    }
   }
  },
  {
   "cell_type": "code",
   "execution_count": 3,
   "outputs": [
    {
     "name": "stdout",
     "output_type": "stream",
     "text": [
      "ite 1 : a_0  = -8.0000, b_0  = -1.0000, p_1  = -4.50000\n",
      "ite 2 : a_1  = -8.0000, b_1  = -4.5000, p_2  = -6.25000\n",
      "ite 3 : a_2  = -8.0000, b_2  = -6.2500, p_3  = -7.12500\n",
      "ite 4 : a_3  = -8.0000, b_3  = -7.1250, p_4  = -7.56250\n",
      "ite 5 : a_4  = -7.5625, b_4  = -7.1250, p_5  = -7.34375\n",
      "ite 6 : a_5  = -7.5625, b_5  = -7.3438, p_6  = -7.45312\n",
      "ite 7 : a_6  = -7.4531, b_6  = -7.3438, p_7  = -7.39844\n",
      "ite 8 : a_7  = -7.4531, b_7  = -7.3984, p_8  = -7.42578\n",
      "ite 9 : a_8  = -7.4531, b_8  = -7.4258, p_9  = -7.43945\n",
      "ite 10: a_9  = -7.4531, b_9  = -7.4395, p_10 = -7.44629\n",
      "ite 11: a_10 = -7.4463, b_10 = -7.4395, p_11 = -7.44287\n",
      "ite 12: a_11 = -7.4429, b_11 = -7.4395, p_12 = -7.44116\n",
      "ite 13: a_12 = -7.4412, b_12 = -7.4395, p_13 = -7.44031\n",
      "ite 14: a_13 = -7.4403, b_13 = -7.4395, p_14 = -7.43988\n",
      "ite 15: a_14 = -7.4403, b_14 = -7.4399, p_15 = -7.44009\n",
      "ite 16: a_15 = -7.4403, b_15 = -7.4401, p_16 = -7.44020\n",
      "ite 17: a_16 = -7.4402, b_16 = -7.4401, p_17 = -7.44015\n",
      "ite 18: a_17 = -7.4402, b_17 = -7.4401, p_18 = -7.44017\n",
      "ite 19: a_18 = -7.4402, b_18 = -7.4401, p_19 = -7.44016\n",
      "ite 20: a_19 = -7.4402, b_19 = -7.4401, p_20 = -7.44015\n",
      "solución encontrada\n"
     ]
    },
    {
     "data": {
      "text/plain": "-7.440154075622559"
     },
     "execution_count": 3,
     "metadata": {},
     "output_type": "execute_result"
    }
   ],
   "source": [
    "f = lambda x: np.sin(3*x) - np.cos(2*x) -1\n",
    "met_biseccion(f, -8, -1, 1e-5)"
   ],
   "metadata": {
    "collapsed": false,
    "pycharm": {
     "name": "#%%\n"
    }
   }
  },
  {
   "cell_type": "code",
   "execution_count": null,
   "outputs": [],
   "source": [],
   "metadata": {
    "collapsed": false,
    "pycharm": {
     "name": "#%%\n"
    }
   }
  }
 ],
 "metadata": {
  "kernelspec": {
   "display_name": "Python 3",
   "language": "python",
   "name": "python3"
  },
  "language_info": {
   "codemirror_mode": {
    "name": "ipython",
    "version": 2
   },
   "file_extension": ".py",
   "mimetype": "text/x-python",
   "name": "python",
   "nbconvert_exporter": "python",
   "pygments_lexer": "ipython2",
   "version": "2.7.6"
  }
 },
 "nbformat": 4,
 "nbformat_minor": 0
}