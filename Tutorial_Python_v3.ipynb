{
 "cells": [
  {
   "cell_type": "code",
   "execution_count": 2,
   "metadata": {},
   "outputs": [],
   "source": [
    "# Copyright 2020 Los autores del tutorial\n",
    "# \n",
    "# Licensed under the Apache License, Version 2.0 (the \"License\");\n",
    "# you may not use this file except in compliance with the License.\n",
    "# You may obtain a copy of the License at\n",
    "# \n",
    "#    http://www.apache.org/licenses/LICENSE-2.0\n",
    "# \n",
    "# Unless required by applicable law or agreed to in writing, software\n",
    "# distributed under the License is distributed on an \"AS IS\" BASIS,\n",
    "# WITHOUT WARRANTIES OR CONDITIONS OF ANY KIND, either express or implied.\n",
    "# See the License for the specific language governing permissions and\n",
    "# limitations under the License."
   ]
  },
  {
   "cell_type": "markdown",
   "metadata": {
    "pycharm": {
     "name": "#%% md\n"
    }
   },
   "source": [
    "[![Open In Colab](https://colab.research.google.com/assets/colab-badge.svg)](https://colab.research.google.com/github/caramirezs/MetNum_202210/blob/main/Tutorial_Python_v3.ipynb)"
   ]
  },
  {
   "cell_type": "markdown",
   "metadata": {},
   "source": [
    "# Tutorial de Python v3.1\n",
    "`Python` es un lenguaje de programación de alto nivel, multi-paradigma y multi-propósito.\n",
    "Es un lenguaje interpretado donde se enfatiza la legibilidad para construir\n",
    "expresiones efectivas en pocas líneas de código. Estos últimos aspectos se pueden evidenciar con el tradicional programa “Hola Mundo”, que utiliza solamente una línea de código en `Python`. \n",
    "\n",
    "Para ejecutar las celdas y ver la salida, se puede usar el atajo de teclado **SHIFT+ENTER** o presionar el botón **Run** de la barra de herramientas.\n",
    "\n",
    "*Observación:* a la hora de trabajar con el cuadernillo, puede ser posible que las líneas de código no se ejecuten o presenten errores inesperados. En dicho caso lo más probable es que se haya presentado una pérdida de conexión de *kernel* de `Python`. Para solucionar el anterior error, usar el menú **Kernel** para reiniciar o conectar un nuevo *kernel*."
   ]
  },
  {
   "cell_type": "code",
   "execution_count": 1,
   "metadata": {},
   "outputs": [
    {
     "name": "stdout",
     "output_type": "stream",
     "text": [
      "Hola Mundo\n"
     ]
    }
   ],
   "source": [
    "print(\"Hola Mundo\")"
   ]
  },
  {
   "cell_type": "markdown",
   "metadata": {},
   "source": [
    "En este momento se intuye que `print` es una *función* y que las *cadenas de texto* se delimitan con `\"`. También se observa el uso de la notación estándar en matemáticas $y=f(x)$. Más adelante se tienen otros detalles al respecto."
   ]
  },
  {
   "cell_type": "markdown",
   "metadata": {},
   "source": [
    "# Operaciones básicas\n",
    "\n",
    "En `Python` se tienen presentes varias operaciones matemáticas básicas usuales."
   ]
  },
  {
   "cell_type": "code",
   "execution_count": 16,
   "metadata": {},
   "outputs": [
    {
     "data": {
      "text/plain": [
       "25"
      ]
     },
     "execution_count": 16,
     "metadata": {},
     "output_type": "execute_result"
    }
   ],
   "source": [
    "4-5+26"
   ]
  },
  {
   "cell_type": "code",
   "execution_count": 5,
   "metadata": {},
   "outputs": [
    {
     "data": {
      "text/plain": [
       "27"
      ]
     },
     "execution_count": 5,
     "metadata": {},
     "output_type": "execute_result"
    }
   ],
   "source": [
    "3*9"
   ]
  },
  {
   "cell_type": "markdown",
   "metadata": {},
   "source": [
    "Es posible hacer divisiones reales, enteras y calcular residuos."
   ]
  },
  {
   "cell_type": "code",
   "execution_count": 6,
   "metadata": {},
   "outputs": [
    {
     "data": {
      "text/plain": [
       "3.4"
      ]
     },
     "execution_count": 6,
     "metadata": {},
     "output_type": "execute_result"
    }
   ],
   "source": [
    "17/5"
   ]
  },
  {
   "cell_type": "code",
   "execution_count": 7,
   "metadata": {},
   "outputs": [
    {
     "data": {
      "text/plain": [
       "3"
      ]
     },
     "execution_count": 7,
     "metadata": {},
     "output_type": "execute_result"
    }
   ],
   "source": [
    "17//5"
   ]
  },
  {
   "cell_type": "code",
   "execution_count": 8,
   "metadata": {},
   "outputs": [
    {
     "data": {
      "text/plain": [
       "2"
      ]
     },
     "execution_count": 8,
     "metadata": {},
     "output_type": "execute_result"
    }
   ],
   "source": [
    "17%5"
   ]
  },
  {
   "cell_type": "markdown",
   "metadata": {},
   "source": [
    "Para las potencias se usa `**` en lugar de `^`."
   ]
  },
  {
   "cell_type": "code",
   "execution_count": 9,
   "metadata": {},
   "outputs": [
    {
     "data": {
      "text/plain": [
       "65536"
      ]
     },
     "execution_count": 9,
     "metadata": {},
     "output_type": "execute_result"
    }
   ],
   "source": [
    "2**16"
   ]
  },
  {
   "cell_type": "code",
   "execution_count": 10,
   "metadata": {},
   "outputs": [
    {
     "data": {
      "text/plain": [
       "33805343300438853814752364990938933425449908007046081297388668118630247857105778967610888819286263705192453179305126807312842585720414484847184704026074021922238120418879842204083575865630890438370094975482734078619666612434695137625437772461352438714771428726112521547879289139767000779065088283795496585361089305842047559285524403084125683843444139511731134865533126432213857914566820516445653972074093125833399006888198023041923806886743118482731664829492970015531056352285375967737068215383317617438651269104293772557940019534875206548786671550773012289787073149662435395938517706900041437482885270152627546125563698837500233891432222624935638893826692585315852405434789475361295223535617830144310061480073073284774911415573775515365939631849370788193929354682107177924894846392154535789995082877324440517233231618906587334638658148833201266825199127197265625"
      ]
     },
     "execution_count": 10,
     "metadata": {},
     "output_type": "execute_result"
    }
   ],
   "source": [
    "5**1234"
   ]
  },
  {
   "cell_type": "markdown",
   "metadata": {},
   "source": [
    "Para usar funciones trigonométricas, trascendentes, o ciertas constantes especiales, es hora de importar un primer *módulo* con el comando `import math`. El texto `##IMPORTS##` presente en la siguiente celda es ignorado, pues comienza con `#`, que en `Python` se usa para comentar líneas. La anterior práctica sirve para documentar código y hacerlo más legible o entendible."
   ]
  },
  {
   "cell_type": "code",
   "execution_count": 11,
   "metadata": {},
   "outputs": [],
   "source": [
    "##IMPORTS##\n",
    "import math # Importar módulo matemático de la librería estándar"
   ]
  },
  {
   "cell_type": "markdown",
   "metadata": {},
   "source": [
    "Ya es posible usar constantes como $\\pi$ o funciones como $\\sin x$, $e^x$, etc. Acá se tienen unos primeros ejemplos de la *notación de punto*, en la cual se extrae la función o constante del módulo importado."
   ]
  },
  {
   "cell_type": "code",
   "execution_count": 12,
   "metadata": {},
   "outputs": [
    {
     "data": {
      "text/plain": [
       "3.141592653589793"
      ]
     },
     "execution_count": 12,
     "metadata": {},
     "output_type": "execute_result"
    }
   ],
   "source": [
    "math.pi # Constante pi"
   ]
  },
  {
   "cell_type": "code",
   "execution_count": 13,
   "metadata": {},
   "outputs": [
    {
     "data": {
      "text/plain": [
       "0.7071067811865476"
      ]
     },
     "execution_count": 13,
     "metadata": {},
     "output_type": "execute_result"
    }
   ],
   "source": [
    "math.sin(math.pi/4) # Seno de pi/4"
   ]
  },
  {
   "cell_type": "code",
   "execution_count": 14,
   "metadata": {},
   "outputs": [
    {
     "data": {
      "text/plain": [
       "2.718281828459045"
      ]
     },
     "execution_count": 14,
     "metadata": {},
     "output_type": "execute_result"
    }
   ],
   "source": [
    "math.exp(1) # Constante e"
   ]
  },
  {
   "cell_type": "markdown",
   "metadata": {},
   "source": [
    "También es posible hacer ciertas operaciones básicas con cadenas, como es el caso de *concatenación*. Acá ya se muestra por primera vez el uso de variables y su asignación mediante el operador `=`."
   ]
  },
  {
   "cell_type": "code",
   "execution_count": 15,
   "metadata": {},
   "outputs": [
    {
     "data": {
      "text/plain": [
       "'HolaMundo'"
      ]
     },
     "execution_count": 15,
     "metadata": {},
     "output_type": "execute_result"
    }
   ],
   "source": [
    "x = \"Hola\"\n",
    "y = \"Mundo\"\n",
    "x + y"
   ]
  },
  {
   "cell_type": "markdown",
   "metadata": {},
   "source": [
    "Notar que aunque se usa la misma operación `+` de los números reales, lo anterior tiene sentido y se encuentra bien definido. Ahora, ¿qué pasaría si se hace lo anterior con una cadena y un entero?"
   ]
  },
  {
   "cell_type": "code",
   "execution_count": 16,
   "metadata": {},
   "outputs": [
    {
     "ename": "TypeError",
     "evalue": "can only concatenate str (not \"int\") to str",
     "output_type": "error",
     "traceback": [
      "\u001b[1;31m---------------------------------------------------------------------------\u001b[0m",
      "\u001b[1;31mTypeError\u001b[0m                                 Traceback (most recent call last)",
      "\u001b[1;32mC:\\Users\\Public\\Documents\\Wondershare\\CreatorTemp/ipykernel_45656/2002909187.py\u001b[0m in \u001b[0;36m<module>\u001b[1;34m\u001b[0m\n\u001b[1;32m----> 1\u001b[1;33m \u001b[1;34m\"hola\"\u001b[0m \u001b[1;33m+\u001b[0m \u001b[1;36m3\u001b[0m\u001b[1;33m\u001b[0m\u001b[1;33m\u001b[0m\u001b[0m\n\u001b[0m",
      "\u001b[1;31mTypeError\u001b[0m: can only concatenate str (not \"int\") to str"
     ]
    }
   ],
   "source": [
    "\"hola\" + 3"
   ]
  },
  {
   "cell_type": "markdown",
   "metadata": {},
   "source": [
    "Se produce, como es de esperar, un error, pues ahora hay *tipos* distintos de datos. Otra operación muy frecuente con cadenas corresponde a extraer *tajadas* con la sintaxis `cadena[inicio:fin]`. Considerar para tal fin los siguientes ejemplos."
   ]
  },
  {
   "cell_type": "code",
   "execution_count": null,
   "metadata": {},
   "outputs": [],
   "source": [
    "ggm = \"Muchos años después, frente al pelotón de fusilamiento, el coronel Aureliano Buendía había de recordar aquella tarde remota en que su padre lo llevó a conocer el hielo.\""
   ]
  },
  {
   "cell_type": "code",
   "execution_count": null,
   "metadata": {},
   "outputs": [],
   "source": [
    "ggm[0:11]"
   ]
  },
  {
   "cell_type": "code",
   "execution_count": null,
   "metadata": {},
   "outputs": [],
   "source": [
    "ggm[67:84]"
   ]
  },
  {
   "cell_type": "markdown",
   "metadata": {},
   "source": [
    "## Primer ejercicio\n",
    "Calcular el valor de la expresión $\\ln\\!\\left(4+{\\cos\\left(\\frac{\\pi}{4}\\right)}\\right)+\\sqrt{\\arctan\\left(7+\\frac{\\pi}{3}\\right)}$. \n",
    "\n",
    "*Ayuda:* recordar que ya se tiene importado el módulo `math`. Consultar la documentación oficial del módulo [math](https://docs.python.org/3.7/library/math.html) de la librería estándar al respecto."
   ]
  },
  {
   "cell_type": "code",
   "execution_count": null,
   "metadata": {},
   "outputs": [],
   "source": [
    "##PORCALIFICAR##\n",
    "z = math.log(4 + math.cos(  )) + math.sqrt(math   ) # Modificar o completar el código\n",
    "print(z)"
   ]
  },
  {
   "cell_type": "markdown",
   "metadata": {},
   "source": [
    "# Estructuras básicas de control\n",
    "En `Python` se encuentran, entre otras, estructuras básicas de control como es el caso de *condicionales* o *ciclos*."
   ]
  },
  {
   "cell_type": "markdown",
   "metadata": {},
   "source": [
    "### Condicionales\n",
    "Con `if` y `else` se puede hacer una comparación directa."
   ]
  },
  {
   "cell_type": "code",
   "execution_count": null,
   "metadata": {},
   "outputs": [],
   "source": [
    "a = \"Anita\"\n",
    "b = \"Bernardo\"\n",
    "\n",
    "x = len(a)\n",
    "y = len(b)\n",
    "\n",
    "if x == y:\n",
    "    print(\"Los nombres de mis amigos son de igual longitud\")\n",
    "else:\n",
    "    print(\"Los nombres de mis amigos son de distinta longitud\")"
   ]
  },
  {
   "cell_type": "markdown",
   "metadata": {},
   "source": [
    "Notar acá varias cosas nuevas! Se tiene `=` como un operador de *asignación*, mientras que `==` es uno de *comparación*. De otro lado aparece la función nueva `len` que calcula la longitud (*length* en inglés) de una cadena de texto. Notar que los enunciados de `if` y `else` terminan con `:` y que a continuación las funciones `print` se han corrido a la derecha. Esto no es una casualidad. En `Python` el *sangrado* es fundamental para delimitar bloques y por convención es de cuatro espacios. Por último, para anidar condicionales se puede usar `elif`."
   ]
  },
  {
   "cell_type": "code",
   "execution_count": null,
   "metadata": {},
   "outputs": [],
   "source": [
    "x = 7\n",
    "y = 4\n",
    "\n",
    "if x == y:\n",
    "    print(\"x es igual a y\")\n",
    "elif x < y:\n",
    "    print(\"x es menor a y\")\n",
    "else:\n",
    "    print(\"x es mayor a y\")"
   ]
  },
  {
   "cell_type": "markdown",
   "metadata": {},
   "source": [
    "### Ciclos\n",
    "Los ciclos son fundamentales para realizar ciertas operaciones repetitivas o recorrer varios tipos de estructuras. A continuación un par de usos de `for`."
   ]
  },
  {
   "cell_type": "code",
   "execution_count": null,
   "metadata": {},
   "outputs": [],
   "source": [
    "mis_amigos = [\"Anita\", \"Bernardo\", \"Claudia\", \"David\", \"Eliana\", \"Fabio\"]\n",
    "\n",
    "for amigo in mis_amigos:\n",
    "    print(amigo)"
   ]
  },
  {
   "cell_type": "markdown",
   "metadata": {},
   "source": [
    "Acá se tiene un nuevo tipo de estructura de datos: *listas*. `mis_amigos` es un ejemplo, y con el `for`, `in` y el sangrado se recorre la lista. Notar de nuevo `:` como inicio de bloque y el sangrado. Si se traduce a español el anterior código, se tendría *'para amigo en mis amigos, imprimir amigo'*, lo cual es algo totalmente natural.\n",
    "\n",
    "También es común usar `range` para rangos numéricos. En el siguiente ejemplo desde cero hasta *cuatro*, pues `range` termina una unidad *antes* del valor declarado explícitamente."
   ]
  },
  {
   "cell_type": "code",
   "execution_count": null,
   "metadata": {},
   "outputs": [],
   "source": [
    "for i in range(5):\n",
    "    print(i)"
   ]
  },
  {
   "cell_type": "markdown",
   "metadata": {},
   "source": [
    "También es posible especificar el inicio y saltos."
   ]
  },
  {
   "cell_type": "code",
   "execution_count": null,
   "metadata": {},
   "outputs": [],
   "source": [
    "for i in range(7, 21, 3):\n",
    "    print(i)"
   ]
  },
  {
   "cell_type": "markdown",
   "metadata": {},
   "source": [
    "Por último, también es conveniente repetir instrucciones *mientras* cierta condición sea cierta. Para ello usar `while`."
   ]
  },
  {
   "cell_type": "code",
   "execution_count": null,
   "metadata": {},
   "outputs": [],
   "source": [
    "i = 13\n",
    "while i < 28:\n",
    "    print(i)\n",
    "    i = i + 1 "
   ]
  },
  {
   "cell_type": "markdown",
   "metadata": {},
   "source": [
    "## Funciones\n",
    "\n",
    "Muchas veces es necesario encapsular procedimientos en *funciones*, de manera muy similar al concepto matemático de función. La construcción de las funciones se hacen con la palabra clave `def`, seguida del nombre de la función y sus argumentos entre paréntesis. La construcción termina con `:` y en la siguiente línea, con sangrado como es usual, se prosigue al bloque donde se encuentra el cuerpo de la función, donde finalmente se especifica un valor (o valores) de retorno con `return`. A continuación un ejemplo de cómo implementar $f(x)=x^3$ con adecuada documentación (cadena de texto delimitada por `\"\"\"`) y la forma de evaluar en $x=7$. "
   ]
  },
  {
   "cell_type": "code",
   "execution_count": null,
   "metadata": {},
   "outputs": [],
   "source": [
    "def f(entrada):\n",
    "    \"\"\"Returna el cubo de la entrada\"\"\"\n",
    "    return entrada**3\n",
    "\n",
    "print(f(7))"
   ]
  },
  {
   "cell_type": "markdown",
   "metadata": {},
   "source": [
    "## Segundo ejercicio\n",
    "Implementar una función que convierte de grados Fahrenheit a centígrados.\n",
    "\n",
    "*Ayuda:* $c=(f-32)/1.8$ donde $c$ representa grados centígrados y $f$ Fahrenheit."
   ]
  },
  {
   "cell_type": "code",
   "execution_count": null,
   "metadata": {},
   "outputs": [],
   "source": [
    "##PORCALIFICAR##\n",
    "def fahr_a_cent(f):\n",
    "    \"\"\"Retorna en grados centígrados la conversión de f en Fahrenheit\"\"\"\n",
    "    return 0 # Modificar o completar el código"
   ]
  },
  {
   "cell_type": "code",
   "execution_count": null,
   "metadata": {},
   "outputs": [],
   "source": [
    "print(fahr_a_cent(212)) # Debe ser 100.0\n",
    "print(fahr_a_cent(32))  # Debe ser 0.0\n",
    "print(fahr_a_cent(-40)) # Debe ser -40.0"
   ]
  },
  {
   "cell_type": "markdown",
   "metadata": {},
   "source": [
    "## Tercer ejercicio\n",
    "Dado un entero positivo $n$, implementar una función que retorne la suma de sus dígitos.\n",
    "\n",
    "*Ayuda:* dado $n$, ¿qué representan los resultados de las operaciones `n//10` y `n%10`?"
   ]
  },
  {
   "cell_type": "code",
   "execution_count": null,
   "metadata": {},
   "outputs": [],
   "source": [
    "##PORCALIFICAR##\n",
    "def suma_digitos(n):\n",
    "    \"\"\"Retorna la suma de los dígitos de un entero positivo n\"\"\"\n",
    "    suma = 0\n",
    "    while n > 0:\n",
    "        suma = 0 # Modificar o completar el código\n",
    "        n = 0 # Modificar o completar el código\n",
    "    return suma"
   ]
  },
  {
   "cell_type": "code",
   "execution_count": null,
   "metadata": {},
   "outputs": [],
   "source": [
    "print(suma_digitos(78956)) # Debe ser 35\n",
    "print(suma_digitos(1234))  # Debe ser 10\n",
    "print(suma_digitos(8))     # Debe ser 8\n",
    "print(suma_digitos(0))     # Debe ser 0"
   ]
  },
  {
   "cell_type": "markdown",
   "metadata": {},
   "source": [
    "# Estructuras básicas de datos\n",
    "Hasta el momento se ha trabajado con enteros, cadenas y números reales, que en un lenguaje más técnico, se denominan *flotantes*. En la práctica, los programas harán uso de *estructuras de datos*.`Python` tiene varias estructuras básicas por defecto. A continuación se tiene una exposición inicial al uso y funcionamiento de *listas*, *tuplas* y *diccionarios*."
   ]
  },
  {
   "cell_type": "markdown",
   "metadata": {},
   "source": [
    "## Listas\n",
    "En un ejemplo anterior se tenía la lista `mis_amigos`, donde se evidencia que las listas contienen objetos separados por `,` y delimitados con los corchetes `[]`. Otros ejemplos pueden ser las siguientes listas."
   ]
  },
  {
   "cell_type": "code",
   "execution_count": null,
   "metadata": {},
   "outputs": [],
   "source": [
    "vac = [] # Lista vacía\n",
    "herramientas = [\"martillo\", \"taladro\", \"alicate\", \"pinza\", \"destornillador\", \"sierra\"]"
   ]
  },
  {
   "cell_type": "markdown",
   "metadata": {},
   "source": [
    "Es posible calcular la longitud de las listas."
   ]
  },
  {
   "cell_type": "code",
   "execution_count": null,
   "metadata": {},
   "outputs": [],
   "source": [
    "print(len(vac))\n",
    "print(len(herramientas))"
   ]
  },
  {
   "cell_type": "markdown",
   "metadata": {},
   "source": [
    "*Iterar* o hacer un recorrido sobre ellas."
   ]
  },
  {
   "cell_type": "code",
   "execution_count": null,
   "metadata": {},
   "outputs": [],
   "source": [
    "for h in herramientas:\n",
    "    print(h)"
   ]
  },
  {
   "cell_type": "markdown",
   "metadata": {},
   "source": [
    "Insertar o eliminar elementos, ordenar, enumerar, etc."
   ]
  },
  {
   "cell_type": "code",
   "execution_count": null,
   "metadata": {},
   "outputs": [],
   "source": [
    "herramientas.sort() # Para ordenar una lista\n",
    "for h in herramientas:\n",
    "    print(h)"
   ]
  },
  {
   "cell_type": "code",
   "execution_count": null,
   "metadata": {},
   "outputs": [],
   "source": [
    "herramientas.pop(2) # Eliminar tercer elemento. Recordar que el conteo comienza en cero\n",
    "print(herramientas)"
   ]
  },
  {
   "cell_type": "code",
   "execution_count": null,
   "metadata": {},
   "outputs": [],
   "source": [
    "herramientas.append(\"metro\") # Insertar un nuevo elemento al final de la lista\n",
    "print(herramientas)"
   ]
  },
  {
   "cell_type": "code",
   "execution_count": null,
   "metadata": {},
   "outputs": [],
   "source": [
    "for h in enumerate(herramientas):\n",
    "    index, herr = h\n",
    "    print(\"Mi herramienta número {} es un(a) {}.\".format(index, herr))"
   ]
  },
  {
   "cell_type": "markdown",
   "metadata": {},
   "source": [
    "Notar acá varias cosas nuevas!. `enumerate` recorre una lista y la enumera al mismo tiempo. ¿Cómo lo hace?  Generando una lista de *tuplas* `h` que mediante la instrucción `index, herr = h` se procede a hacer un *desempaquetado* de la tupla. Más acerca de tuplas a continuación. Por último, notar la poderosa forma de estructurar cadenas con el método `format`."
   ]
  },
  {
   "cell_type": "markdown",
   "metadata": {},
   "source": [
    "## Tuplas\n",
    "Una tupla es similar a una lista. Mientras que una primera diferencia inicial es que una lista se delimita con corchetes y una tupla con paréntesis, una diferencia mayor recae en el hecho que las tuplas son *inmutables*. Esto quiere decir que no se pueden modificar las componentes de las mismas. Comparar los siguientes ejemplos e interpretar el mensaje de error."
   ]
  },
  {
   "cell_type": "code",
   "execution_count": null,
   "metadata": {},
   "outputs": [],
   "source": [
    "mi_lista = [\"pera\", \"manzana\"]\n",
    "print(mi_lista) # Imprimir lista"
   ]
  },
  {
   "cell_type": "code",
   "execution_count": null,
   "metadata": {},
   "outputs": [],
   "source": [
    "mi_lista[0] = \"naranja\" # Modificar primer elemento\n",
    "print(mi_lista)"
   ]
  },
  {
   "cell_type": "code",
   "execution_count": null,
   "metadata": {},
   "outputs": [],
   "source": [
    "mi_tupla = (\"pera\", \"manzana\")\n",
    "print(mi_tupla) # Imprimir tupla"
   ]
  },
  {
   "cell_type": "code",
   "execution_count": null,
   "metadata": {},
   "outputs": [],
   "source": [
    "mi_tupla[0] = \"naranja\" #Intentar modificar primer elemento de la tupla"
   ]
  },
  {
   "cell_type": "markdown",
   "metadata": {},
   "source": [
    "## Diccionarios\n",
    "Un diccionario es una colección sin orden y mutable de objetos o *valores* que se pueden acceder mediantes *llaves*. Se usan `{}` para delimitar los contenidos y `:` para denotar la correspondencia entre llaves y valores. En el siguiente ejemplo se tiene que `\"huevos\"`, `\"pan\"`, etc. son las llaves asociadas a los valores `7`, `4`, etc. en el diccionario `mercado`."
   ]
  },
  {
   "cell_type": "code",
   "execution_count": null,
   "metadata": {},
   "outputs": [],
   "source": [
    "mercado = {\"huevos\": 7, \"pan\": 4, \"leche\": 3, \"queso\": 2, \"mantequilla\": 3}\n",
    "print(mercado)"
   ]
  },
  {
   "cell_type": "markdown",
   "metadata": {},
   "source": [
    "Para acceder a un valor particular dada una llave se usa la notación `diccionario[llave]`. A manera de ejemplo, ¿cuántos quesos hay que comprar en el mercado?  "
   ]
  },
  {
   "cell_type": "code",
   "execution_count": null,
   "metadata": {},
   "outputs": [],
   "source": [
    "mercado[\"queso\"]"
   ]
  },
  {
   "cell_type": "markdown",
   "metadata": {},
   "source": [
    "Los diccionarios son mutables y por tanto es posible modificar contenidos."
   ]
  },
  {
   "cell_type": "code",
   "execution_count": null,
   "metadata": {},
   "outputs": [],
   "source": [
    "mercado[\"pan\"] = 12\n",
    "mercado[\"queso\"] = 4\n",
    "print(mercado)"
   ]
  },
  {
   "cell_type": "markdown",
   "metadata": {},
   "source": [
    "Es posible buscar la existencia de llaves o agregar nuevas llaves con valores asociados."
   ]
  },
  {
   "cell_type": "code",
   "execution_count": null,
   "metadata": {},
   "outputs": [],
   "source": [
    "\"harina\" in mercado"
   ]
  },
  {
   "cell_type": "code",
   "execution_count": null,
   "metadata": {},
   "outputs": [],
   "source": [
    "\"queso\" in mercado"
   ]
  },
  {
   "cell_type": "code",
   "execution_count": null,
   "metadata": {},
   "outputs": [],
   "source": [
    "mercado[\"aceite\"] = 3\n",
    "print(mercado)"
   ]
  },
  {
   "cell_type": "markdown",
   "metadata": {},
   "source": [
    "También es posible recorrer o iterar con las llaves."
   ]
  },
  {
   "cell_type": "code",
   "execution_count": null,
   "metadata": {},
   "outputs": [],
   "source": [
    "for llave in mercado:\n",
    "    print(llave, mercado[llave])"
   ]
  },
  {
   "cell_type": "markdown",
   "metadata": {},
   "source": [
    "Y con las tuplas `(llave, valor)` al usar el método `items`."
   ]
  },
  {
   "cell_type": "code",
   "execution_count": null,
   "metadata": {},
   "outputs": [],
   "source": [
    "for llave, valor in mercado.items():\n",
    "    print(llave, valor)"
   ]
  },
  {
   "cell_type": "markdown",
   "metadata": {},
   "source": [
    "## Cuarto ejercicio\n",
    "Dada una palabra (cadena de texto) construir una función que retorne un diccionario con la frecuencia de cada letra en la palabra. Asumir que la palabra no contiene símbolos de puntuación o especiales."
   ]
  },
  {
   "cell_type": "code",
   "execution_count": null,
   "metadata": {},
   "outputs": [],
   "source": [
    "##PORCALIFICAR##\n",
    "def frecuencias(palabra):\n",
    "    \"\"\"Retorna un diccionario con la frecuencia de símbolos en la palabra\"\"\"\n",
    "    frec_dic = {} # Crear un diccionario vacío\n",
    "    for c in palabra: # Recorrer cada símbolo en la palabra\n",
    "        if c not in frec_dic: # Si c no es llave del diccionario\n",
    "            pass # Modificar o completar el código\n",
    "        pass # Modificar o completar el código\n",
    "    return frec_dic # Retornar el diccionario"
   ]
  },
  {
   "cell_type": "code",
   "execution_count": null,
   "metadata": {},
   "outputs": [],
   "source": [
    "print(frecuencias(\"\")) # Debe ser {} \n",
    "print(frecuencias(\"www\")) # Debe ser {'w': 3}\n",
    "print(frecuencias(\"aracataca\")) # Debe ser {'a': 5, 'r': 1, 'c': 2, 't': 1} en quizá en otro orden\n",
    "print(frecuencias(\"electroencefalografista\")) # Debe ser {'e': 4, 'l': 2, 'c': 2, 't': 2, 'r': 2, 'o': 2, 'n': 1, 'f': 2, 'a': 3, 'g': 1, 'i': 1, 's': 1} en quizá en otro orden"
   ]
  },
  {
   "cell_type": "markdown",
   "metadata": {},
   "source": [
    "# Algunos módulos frecuentes\n",
    "`Python` viene *'con las pilas puestas'* y en ese sentido hay una gran cantidad de módulos destinados a casi que cualquier tarea imaginable. `Python` tiene un manejador de paquetes `pip` que administra recursos del repositorio [PyPI](https://pypi.org/). A continuación se tienen ejemplos de algunos módulos frecuentes en Ciencias Básicas. "
   ]
  },
  {
   "cell_type": "markdown",
   "metadata": {},
   "source": [
    "## NumPy\n",
    "`numpy` es un poderoso módulo de `Python` para cálculo científico con arreglos de datos multidimensionales. Brinda a `Python` de una gran funcionalidad y es ampliamente usado por la comunidad científica. Recientemente ha contribuido a la generación de la primera imagen de un agujero negro y también en la detección de ondas gravitacionales. Ver el sitio oficial al respecto: [NumPy](https://numpy.org/). Para comenzar a usarlo, es necesario importar el módulo."
   ]
  },
  {
   "cell_type": "code",
   "execution_count": null,
   "metadata": {},
   "outputs": [],
   "source": [
    "##IMPORTS##\n",
    "import numpy as np # Forma estándar de importar numpy\n",
    "from numpy.linalg import solve, inv # De esta manera es posible importar funciones específicas"
   ]
  },
  {
   "cell_type": "markdown",
   "metadata": {},
   "source": [
    "A continuación métodos para trabajar con matrices, transpuestas, inversas y solucionar sistemas de ecuaciones."
   ]
  },
  {
   "cell_type": "code",
   "execution_count": null,
   "metadata": {},
   "outputs": [],
   "source": [
    "a = np.array([[-1.1, 2.5], [1.3, 4.2]])  # Matriz forma (2,2)\n",
    "print(a)\n",
    "print(a.T)  # Transpuesta\n",
    "print(inv(a))  # Inversa\n",
    "\n",
    "b = np.array([[2], [-3]]) # vector forma (2,1)\n",
    "print(b)\n",
    "s = solve(a, b)  # Solucionar el sistema de ecuaciones\n",
    "print(s)"
   ]
  },
  {
   "cell_type": "markdown",
   "metadata": {},
   "source": [
    "## SymPy\n",
    "`sympy` es un módulo clave para hacer no solamente cálculos de tipo numérico, sino también *simbólico*. El sitio oficial se encuentra en [SymPy](https://www.sympy.org/en/index.html). Para comenzar a usarlo, es necesario importar el módulo como sigue."
   ]
  },
  {
   "cell_type": "code",
   "execution_count": null,
   "metadata": {},
   "outputs": [],
   "source": [
    "##IMPORTS##\n",
    "from sympy import * # Importar todas las funciones"
   ]
  },
  {
   "cell_type": "code",
   "execution_count": null,
   "metadata": {},
   "outputs": [],
   "source": [
    "init_printing() # Imprimir resultados con notación matemática"
   ]
  },
  {
   "cell_type": "markdown",
   "metadata": {},
   "source": [
    "Ahora es posible declarar variables de tipo simbólico."
   ]
  },
  {
   "cell_type": "code",
   "execution_count": null,
   "metadata": {},
   "outputs": [],
   "source": [
    "x, y, z = symbols('x y z')"
   ]
  },
  {
   "cell_type": "markdown",
   "metadata": {},
   "source": [
    "Es posible derivar."
   ]
  },
  {
   "cell_type": "code",
   "execution_count": null,
   "metadata": {},
   "outputs": [],
   "source": [
    "diff(x*tan(x), x)"
   ]
  },
  {
   "cell_type": "markdown",
   "metadata": {},
   "source": [
    "Calcular derivadas parciales."
   ]
  },
  {
   "cell_type": "code",
   "execution_count": null,
   "metadata": {},
   "outputs": [],
   "source": [
    "expr = y*z*exp(z*x**2 + x*y**2 - y)\n",
    "diff(expr, y)"
   ]
  },
  {
   "cell_type": "markdown",
   "metadata": {},
   "source": [
    "Integrar."
   ]
  },
  {
   "cell_type": "code",
   "execution_count": null,
   "metadata": {},
   "outputs": [],
   "source": [
    "integrate(x**3 + tan(x) - log(x), x)"
   ]
  },
  {
   "cell_type": "markdown",
   "metadata": {},
   "source": [
    "Calcular límites."
   ]
  },
  {
   "cell_type": "code",
   "execution_count": null,
   "metadata": {},
   "outputs": [],
   "source": [
    "limit((cos(x)-1)/x, x, 0)"
   ]
  },
  {
   "cell_type": "markdown",
   "metadata": {},
   "source": [
    "Expandir en serie."
   ]
  },
  {
   "cell_type": "code",
   "execution_count": null,
   "metadata": {},
   "outputs": [],
   "source": [
    "ex = exp(x)\n",
    "ex.series(x, 0, 10)"
   ]
  },
  {
   "cell_type": "markdown",
   "metadata": {},
   "source": [
    "## Matplotlib\n",
    "`matplotlib` es un potente módulo para hacer gráficas de todo tipo. Consultar el sitio oficial en [Matplotlib](https://matplotlib.org/) y una galería de ejemplos en [Matplotlib Gallery](https://matplotlib.org/gallery.html). Ahora es necesario importar el módulo. La siguiente es una forma estándar de hacer la importación y es muy frecuente en Ciencias Básicas."
   ]
  },
  {
   "cell_type": "code",
   "execution_count": null,
   "metadata": {},
   "outputs": [],
   "source": [
    "##IMPORTS##\n",
    "import matplotlib.pyplot as plt # Forma estándar de importar matplotlib"
   ]
  },
  {
   "cell_type": "markdown",
   "metadata": {},
   "source": [
    "La siguiente línea se usa para ver las gráficas incrustadas en este cuadernillo."
   ]
  },
  {
   "cell_type": "code",
   "execution_count": null,
   "metadata": {},
   "outputs": [],
   "source": [
    "%matplotlib inline"
   ]
  },
  {
   "cell_type": "markdown",
   "metadata": {},
   "source": [
    "### Tablas de datos\n",
    "Para gráficas simples de tablas o listas, bastan unos pocos comandos para tener resultados."
   ]
  },
  {
   "cell_type": "code",
   "execution_count": null,
   "metadata": {},
   "outputs": [],
   "source": [
    "x = [1, 2, 3, 4, 5, 6]\n",
    "y = [2, -1, 5, -1, 1, 0]\n",
    "# Graficas con plt.plot\n",
    "plt.plot(x, y)\n",
    "plt.show()"
   ]
  },
  {
   "cell_type": "markdown",
   "metadata": {},
   "source": [
    "Añadir títulos o nombres de los ejes."
   ]
  },
  {
   "cell_type": "code",
   "execution_count": null,
   "metadata": {},
   "outputs": [],
   "source": [
    "x = [1, 2, 3, 4, 5, 6]\n",
    "y = [2, -1, 5, -1, 1, 0]\n",
    "plt.plot(x, y)\n",
    "# A continuación las etiquetas\n",
    "plt.xlabel('x')\n",
    "plt.ylabel('y')\n",
    "plt.title(\"Gráfica de y contra x\")\n",
    "plt.show()"
   ]
  },
  {
   "cell_type": "markdown",
   "metadata": {},
   "source": [
    "### Funciones\n",
    "Para funciones de una variable real, es conveniente usar arreglos de `numpy` y la función `linspace` que produce arreglos de puntos con espaciado uniforme."
   ]
  },
  {
   "cell_type": "code",
   "execution_count": null,
   "metadata": {},
   "outputs": [],
   "source": [
    "puntos = 5 # Dividir el intervalo con este número de puntos intermedios\n",
    "arreglo = np.linspace(0, 6, puntos)\n",
    "print(arreglo)"
   ]
  },
  {
   "cell_type": "markdown",
   "metadata": {},
   "source": [
    "Ahora es posible graficar funciones en forma más fina."
   ]
  },
  {
   "cell_type": "code",
   "execution_count": null,
   "metadata": {},
   "outputs": [],
   "source": [
    "puntos = 100 # Dividir el intervalo con este número de puntos intermedios\n",
    "x = np.linspace(-6*np.pi, 6*np.pi, puntos)\n",
    "y = np.sin(x)/x\n",
    "plt.plot(x, y)\n",
    "plt.xlabel('x')\n",
    "plt.ylabel('sin(x)/x')\n",
    "plt.show()"
   ]
  },
  {
   "cell_type": "markdown",
   "metadata": {},
   "source": [
    "### Curvas de nivel\n",
    "En el caso del cálculo multivariable, muchas veces es necesario graficar contornos. Para ellos considerar la función $$f(x,y)=\\left(x^2+3y^2\\right)e^{-x^2-y^2}$$ Primero hay que generar una *malla*, pues ahora se cuenta con dos dimensiones."
   ]
  },
  {
   "cell_type": "code",
   "execution_count": null,
   "metadata": {},
   "outputs": [],
   "source": [
    "puntos = 100  # Dividir cada intervalo con este número de puntos intermedios\n",
    "x = np.linspace(-2, 2, puntos)\n",
    "y = np.linspace(-2, 2, puntos)\n",
    "X, Y = np.meshgrid(x, y) # Generación de la malla"
   ]
  },
  {
   "cell_type": "markdown",
   "metadata": {},
   "source": [
    "Ahora hay que evaluar $f$ en cada punto."
   ]
  },
  {
   "cell_type": "code",
   "execution_count": null,
   "metadata": {},
   "outputs": [],
   "source": [
    "Z = (X*X+3*Y*Y)*np.exp(-X*X-Y*Y)"
   ]
  },
  {
   "cell_type": "markdown",
   "metadata": {},
   "source": [
    "Ahora ya se puede generar la gráfica."
   ]
  },
  {
   "cell_type": "code",
   "execution_count": null,
   "metadata": {},
   "outputs": [],
   "source": [
    "plt.contourf(X, Y, Z)\n",
    "plt.colorbar()\n",
    "plt.show()"
   ]
  },
  {
   "cell_type": "markdown",
   "metadata": {},
   "source": [
    "Para graficar en 3D hay que importar otros módulos también de `matplotlib`."
   ]
  },
  {
   "cell_type": "code",
   "execution_count": null,
   "metadata": {},
   "outputs": [],
   "source": [
    "##IMPORTS##\n",
    "from mpl_toolkits.mplot3d import Axes3D"
   ]
  },
  {
   "cell_type": "markdown",
   "metadata": {},
   "source": [
    "Ahora se puede graficar la función del anterior ejemplo $$f(x,y)=\\left(x^2+3y^2\\right)e^{-x^2-y^2}$$"
   ]
  },
  {
   "cell_type": "code",
   "execution_count": null,
   "metadata": {},
   "outputs": [],
   "source": [
    "puntos = 30  # Dividir cada intervalo con este número de puntos intermedios\n",
    "x = np.linspace(-2, 2, puntos)\n",
    "y = np.linspace(-2, 2, puntos)\n",
    "X, Y = np.meshgrid(x, y)\n",
    "\n",
    "fig = plt.figure()\n",
    "ax = Axes3D(fig)\n",
    "\n",
    "Z = (X*X+3*Y*Y)*np.exp(-X*X-Y*Y)\n",
    "\n",
    "ax.plot_surface(X, Y, Z, cmap='hot')\n",
    "plt.show()"
   ]
  },
  {
   "cell_type": "markdown",
   "metadata": {},
   "source": [
    "# Para finalizar la actividad\n",
    "1. Guardar todos los cambios a este cuadernillo. En el menú principal **File** **>** **Save and Checkpoint**. También se puede usar el atajo de teclado: **CRTL+S**\n",
    "2. Descargar la versión definitiva del cuadernillo para fines personales o para una entrega calificada en formato `.ipynb`. En el menú principal **File** **>** **Download as** **>** **Notebook (.ipynb)**.\n",
    "3. Apagar el *kernel* actual y liberar así recursos de máquina: en el menú principal **File** **>** **Close and Halt**. La pestaña actual se cerrará. Después de lo anterior ya es posible cerrar la sesión al oprimir el botón ***Quit***. También es posible en este punto cerrar el navegador."
   ]
  }
 ],
 "metadata": {
  "kernelspec": {
   "display_name": "Python 3 (ipykernel)",
   "language": "python",
   "name": "python3"
  },
  "language_info": {
   "codemirror_mode": {
    "name": "ipython",
    "version": 3
   },
   "file_extension": ".py",
   "mimetype": "text/x-python",
   "name": "python",
   "nbconvert_exporter": "python",
   "pygments_lexer": "ipython3",
   "version": "3.9.7"
  }
 },
 "nbformat": 4,
 "nbformat_minor": 2
}
